{
 "cells": [
  {
   "cell_type": "markdown",
   "id": "d4c7fa31",
   "metadata": {},
   "source": [
    "# Ques 1.Write code that uses iteration to print out the length of each element of the list stored in list.\n"
   ]
  },
  {
   "cell_type": "markdown",
   "id": "0e67086f",
   "metadata": {},
   "source": [
    "# list=[\"hello\",\"\",\"goodbye\",\"wonderful\",\"I love Python\"]"
   ]
  },
  {
   "cell_type": "code",
   "execution_count": 1,
   "id": "a29a0248",
   "metadata": {},
   "outputs": [],
   "source": [
    "list=[\"hello\",\"\",\"goodbye\",\"wonderful\",\"I love Python\"]"
   ]
  },
  {
   "cell_type": "code",
   "execution_count": 2,
   "id": "d010cc69",
   "metadata": {},
   "outputs": [],
   "source": [
    "l1=[len(list[0]),len(list[1]),len(list[3]),len(list[4])]"
   ]
  },
  {
   "cell_type": "code",
   "execution_count": 3,
   "id": "46a337f5",
   "metadata": {},
   "outputs": [
    {
     "data": {
      "text/plain": [
       "[5, 0, 9, 13]"
      ]
     },
     "execution_count": 3,
     "metadata": {},
     "output_type": "execute_result"
    }
   ],
   "source": [
    "l1"
   ]
  },
  {
   "cell_type": "markdown",
   "id": "3f5c030d",
   "metadata": {},
   "source": [
    "# Ques 2.Write a Python program to count and display the vowels of a given text."
   ]
  },
  {
   "cell_type": "code",
   "execution_count": 8,
   "id": "5b468aa2",
   "metadata": {},
   "outputs": [
    {
     "name": "stdout",
     "output_type": "stream",
     "text": [
      "Enter SentencePallavi\n",
      "a\n",
      "a\n",
      "i\n",
      "Total Number of Vowels 3\n"
     ]
    }
   ],
   "source": [
    "j=0\n",
    "st= input(\"Enter Sentence\")\n",
    "l=st.lower()\n",
    "for i in l:\n",
    "    if(i=='a' or i=='e' or i=='i' or i=='o' or i=='u'):\n",
    "        j=j+1\n",
    "        print(i)\n",
    "print(\"Total Number of Vowels\",j) "
   ]
  },
  {
   "cell_type": "markdown",
   "id": "5346a0e8",
   "metadata": {},
   "source": [
    "# Ques 3.write code to create a list of numbers from 0 to 88 and assign that list to the variable nums. Do not hard code the list"
   ]
  },
  {
   "cell_type": "code",
   "execution_count": 5,
   "id": "3ccaaa9e",
   "metadata": {},
   "outputs": [],
   "source": [
    "l1=[]\n",
    "for i in range(0,89):\n",
    "    l1.append(i)"
   ]
  },
  {
   "cell_type": "code",
   "execution_count": 10,
   "id": "369a5905",
   "metadata": {},
   "outputs": [
    {
     "name": "stdout",
     "output_type": "stream",
     "text": [
      "[0, 1, 2, 3, 4, 5, 6, 7, 8, 9, 10, 11, 12, 13, 14, 15, 16, 17, 18, 19, 20, 21, 22, 23, 24, 25, 26, 27, 28, 29, 30, 31, 32, 33, 34, 35, 36, 37, 38, 39, 40, 41, 42, 43, 44, 45, 46, 47, 48, 49, 50, 51, 52, 53, 54, 55, 56, 57, 58, 59, 60, 61, 62, 63, 64, 65, 66, 67, 68, 69, 70, 71, 72, 73, 74, 75, 76, 77, 78, 79, 80, 81, 82, 83, 84, 85, 86, 87, 88]\n"
     ]
    }
   ],
   "source": [
    "print(l1)"
   ]
  },
  {
   "cell_type": "markdown",
   "id": "2f77701e",
   "metadata": {},
   "source": [
    "# Ques 4.Addition is a string with a list of numbers separated by the + sign. Write code that uses the accumulation pattern to take the sum of all of the numbers and assigns it to sum_val(an integer). (You should use the .split(\"+\") function to split by \"+\" and int() to cast to an integer)."
   ]
  },
  {
   "cell_type": "markdown",
   "id": "22fa1a11",
   "metadata": {},
   "source": [
    "# Addition = \"2+5+10+20\""
   ]
  },
  {
   "cell_type": "code",
   "execution_count": 11,
   "id": "83b71914",
   "metadata": {},
   "outputs": [
    {
     "name": "stdout",
     "output_type": "stream",
     "text": [
      "37\n"
     ]
    }
   ],
   "source": [
    "addition = \"2+5+10+20\"\n",
    "s = addition.split(\"+\")\n",
    "sum_val=0\n",
    "for i in s:\n",
    "    sum_val=sum_val+int(i)\n",
    "print(sum_val)    "
   ]
  },
  {
   "cell_type": "markdown",
   "id": "d07ba7c2",
   "metadata": {},
   "source": [
    "# Ques 5.Write a Python program to find the volume of a sphere with diameter 12cm."
   ]
  },
  {
   "cell_type": "markdown",
   "id": "ac8abf03",
   "metadata": {},
   "source": [
    "# Formula: V=4/3 π r 3"
   ]
  },
  {
   "cell_type": "code",
   "execution_count": 12,
   "id": "67e3f2f7",
   "metadata": {},
   "outputs": [
    {
     "name": "stdout",
     "output_type": "stream",
     "text": [
      "volume of sphere is 904.3199999999999\n"
     ]
    }
   ],
   "source": [
    "d=12\n",
    "r=d/2\n",
    "v=4/3*3.14*r**3\n",
    "print('volume of sphere is',v)"
   ]
  },
  {
   "cell_type": "code",
   "execution_count": null,
   "id": "7bf39bb8",
   "metadata": {},
   "outputs": [],
   "source": []
  }
 ],
 "metadata": {
  "kernelspec": {
   "display_name": "Python 3",
   "language": "python",
   "name": "python3"
  },
  "language_info": {
   "codemirror_mode": {
    "name": "ipython",
    "version": 3
   },
   "file_extension": ".py",
   "mimetype": "text/x-python",
   "name": "python",
   "nbconvert_exporter": "python",
   "pygments_lexer": "ipython3",
   "version": "3.8.8"
  }
 },
 "nbformat": 4,
 "nbformat_minor": 5
}
