{
 "cells": [
  {
   "cell_type": "markdown",
   "id": "04b3cfbc",
   "metadata": {},
   "source": [
    "# ASSIGNMENT-3 PALLAVI KUMARI"
   ]
  },
  {
   "cell_type": "markdown",
   "id": "2e52f9cb",
   "metadata": {},
   "source": [
    "# 1.Write a Python function to find the Max of three numbers."
   ]
  },
  {
   "cell_type": "code",
   "execution_count": 1,
   "id": "0a4af9a2",
   "metadata": {},
   "outputs": [],
   "source": [
    "def maximum(a,b,c):\n",
    "    \n",
    "    if (a >= b) and (a >= c):\n",
    "        largest=a \n",
    "        \n",
    "    elif(b >= a)and(b >= c):\n",
    "        largest=b \n",
    "    else:\n",
    "        largest=c\n",
    "       \n",
    "    return largest\n"
   ]
  },
  {
   "cell_type": "code",
   "execution_count": 2,
   "id": "d4f05373",
   "metadata": {},
   "outputs": [],
   "source": [
    "#Driven Code\n",
    "a=20\n",
    "b=60\n",
    "c=30"
   ]
  },
  {
   "cell_type": "code",
   "execution_count": 3,
   "id": "7687a384",
   "metadata": {},
   "outputs": [
    {
     "name": "stdout",
     "output_type": "stream",
     "text": [
      "60\n"
     ]
    }
   ],
   "source": [
    "print (maximum(a,b,c))"
   ]
  },
  {
   "cell_type": "markdown",
   "id": "0f9e20f3",
   "metadata": {},
   "source": [
    "# 2.Write a python function to multiply all the numbers in a list"
   ]
  },
  {
   "cell_type": "code",
   "execution_count": 4,
   "id": "83889d27",
   "metadata": {},
   "outputs": [],
   "source": [
    "def multiplyList(List) :\n",
    "    output = 1\n",
    "    for i in List:\n",
    "        output = output * i\n",
    "    return output"
   ]
  },
  {
   "cell_type": "code",
   "execution_count": 5,
   "id": "c7cf1201",
   "metadata": {},
   "outputs": [],
   "source": [
    "list = [1,2,3]\n"
   ]
  },
  {
   "cell_type": "code",
   "execution_count": 6,
   "id": "038ceb02",
   "metadata": {},
   "outputs": [
    {
     "name": "stdout",
     "output_type": "stream",
     "text": [
      "The list is equal to 6\n"
     ]
    }
   ],
   "source": [
    "print('The list is equal to' ,multiplyList(list))"
   ]
  },
  {
   "cell_type": "markdown",
   "id": "1e82e857",
   "metadata": {},
   "source": [
    "# 3.Write a Python function that accepts a string and calculate the number of upper case letters and lower case letters."
   ]
  },
  {
   "cell_type": "code",
   "execution_count": 7,
   "id": "4912ea43",
   "metadata": {},
   "outputs": [
    {
     "name": "stdout",
     "output_type": "stream",
     "text": [
      "Original String :  TechStudy - The Complete Debugging Solution\n",
      "No. of Uppe'r case characters :  6\n",
      "No. of Lower case Characters :  31\n"
     ]
    }
   ],
   "source": [
    "def string_test(s):\n",
    "    d={\"UPPER_CASE\":0, \"LOWER_CASE\":0}\n",
    "    for c in s:\n",
    "        if c.isupper():\n",
    "           d[\"UPPER_CASE\"]+=1\n",
    "        elif c.islower():\n",
    "           d[\"LOWER_CASE\"]+=1\n",
    "        else:\n",
    "           pass\n",
    "    print (\"Original String : \", s)\n",
    "    print (\"No. of Uppe'r case characters : \", d[\"UPPER_CASE\"])\n",
    "    print (\"No. of Lower case Characters : \", d[\"LOWER_CASE\"])\n",
    "string_test('TechStudy - The Complete Debugging Solution')"
   ]
  },
  {
   "cell_type": "markdown",
   "id": "4e4944da",
   "metadata": {},
   "source": [
    "# 4.Write a Python function that checks whether a passed string is palindrome or not."
   ]
  },
  {
   "cell_type": "code",
   "execution_count": 8,
   "id": "813bf56c",
   "metadata": {},
   "outputs": [
    {
     "name": "stdout",
     "output_type": "stream",
     "text": [
      "Yes\n"
     ]
    }
   ],
   "source": [
    "def isPalindrome(s):\n",
    "    return s == s[::-1]\n",
    "s = \"malayalam\"\n",
    "ans = isPalindrome(s)\n",
    "\n",
    "if ans:\n",
    "    print(\"Yes\")\n",
    "else:\n",
    "   print(\"No\") \n",
    " "
   ]
  },
  {
   "cell_type": "markdown",
   "id": "f25743e3",
   "metadata": {},
   "source": [
    "# 5.Write a Python program to print the even numbers from a given list."
   ]
  },
  {
   "cell_type": "code",
   "execution_count": 12,
   "id": "29209a65",
   "metadata": {},
   "outputs": [
    {
     "name": "stdout",
     "output_type": "stream",
     "text": [
      "10 4 66 "
     ]
    }
   ],
   "source": [
    "list1=[10, 21, 4, 45, 66, 93]\n",
    "\n",
    "#iterating each number in list \n",
    "\n",
    "for num in list1:\n",
    "   \n",
    "    #checking condition\n",
    " \n",
    " if num % 2 == 0:\n",
    "    print(num, end = \" \")  "
   ]
  },
  {
   "cell_type": "code",
   "execution_count": null,
   "id": "28855509",
   "metadata": {},
   "outputs": [],
   "source": []
  }
 ],
 "metadata": {
  "kernelspec": {
   "display_name": "Python 3",
   "language": "python",
   "name": "python3"
  },
  "language_info": {
   "codemirror_mode": {
    "name": "ipython",
    "version": 3
   },
   "file_extension": ".py",
   "mimetype": "text/x-python",
   "name": "python",
   "nbconvert_exporter": "python",
   "pygments_lexer": "ipython3",
   "version": "3.8.8"
  }
 },
 "nbformat": 4,
 "nbformat_minor": 5
}
