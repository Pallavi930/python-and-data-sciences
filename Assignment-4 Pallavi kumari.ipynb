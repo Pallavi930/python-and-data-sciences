{
 "cells": [
  {
   "cell_type": "markdown",
   "id": "f4389c35",
   "metadata": {},
   "source": [
    "# Assignment-4 Pallavi kumari"
   ]
  },
  {
   "cell_type": "markdown",
   "id": "95631567",
   "metadata": {},
   "source": [
    "# Ques 1. Write a function that asks for an integer and prints the square of it.Use a While loop with a try except,else block to accountfor incorrect ."
   ]
  },
  {
   "cell_type": "code",
   "execution_count": 1,
   "id": "e24871d7",
   "metadata": {},
   "outputs": [],
   "source": [
    "def sq():\n",
    "    while True:\n",
    "        try:\n",
    "            a=int(input('Enter a number '))\n",
    "            s=a**2\n",
    "        except:\n",
    "            print('Please Enter valid input ')\n",
    "        else:\n",
    "            print('The Square of a number is  ',s)\n",
    "            break"
   ]
  },
  {
   "cell_type": "code",
   "execution_count": 2,
   "id": "1983a00f",
   "metadata": {},
   "outputs": [
    {
     "name": "stdout",
     "output_type": "stream",
     "text": [
      "Enter a number 20\n",
      "The Square of a number is   400\n"
     ]
    }
   ],
   "source": [
    "sq()"
   ]
  },
  {
   "cell_type": "markdown",
   "id": "2a7bec30",
   "metadata": {},
   "source": [
    "# 2.Write a function to compute 8/0 and use try/except to catch the exceptions."
   ]
  },
  {
   "cell_type": "code",
   "execution_count": 3,
   "id": "a1eac316",
   "metadata": {},
   "outputs": [],
   "source": [
    "def call():\n",
    "    try:\n",
    "        x=8/0\n",
    "        print(x)\n",
    "    except Exception as e:\n",
    "         print(Exception)\n",
    "         print('Exception is:',e)"
   ]
  },
  {
   "cell_type": "code",
   "execution_count": 4,
   "id": "123074d3",
   "metadata": {},
   "outputs": [
    {
     "name": "stdout",
     "output_type": "stream",
     "text": [
      "<class 'Exception'>\n",
      "Exception is: division by zero\n"
     ]
    }
   ],
   "source": [
    "call()"
   ]
  },
  {
   "cell_type": "markdown",
   "id": "3d941d54",
   "metadata": {},
   "source": [
    "# 3. Write a Python program that accepts a string and calculate the number of digits and letters"
   ]
  },
  {
   "cell_type": "markdown",
   "id": "65c3487e",
   "metadata": {},
   "source": [
    "# Input :-Hello321Bye360\n",
    "\n"
   ]
  },
  {
   "cell_type": "markdown",
   "id": "ebb8597f",
   "metadata": {},
   "source": [
    "# Output:-Digit - 6,Letter - 8"
   ]
  },
  {
   "cell_type": "code",
   "execution_count": 5,
   "id": "848b9eb8",
   "metadata": {},
   "outputs": [
    {
     "name": "stdout",
     "output_type": "stream",
     "text": [
      "Enter the string Hello321Bye360\n",
      " Digit- 6\n",
      " Letter- 8\n"
     ]
    }
   ],
   "source": [
    "s=input('Enter the string ')\n",
    "d=0\n",
    "l=0\n",
    "for i in s:\n",
    "    if i.isdigit():\n",
    "        d=d+1\n",
    "       \n",
    "    elif i.isalpha():\n",
    "        l=l+1\n",
    "      \n",
    "    else:\n",
    "        pass\n",
    "    \n",
    "print(' Digit-',d)\n",
    "print(' Letter-',l)\n"
   ]
  },
  {
   "cell_type": "markdown",
   "id": "7d71327f",
   "metadata": {},
   "source": [
    "# 4. You are given a string.Your task is to count the frequency of letters of the string and print the letters in descending order of frequency."
   ]
  },
  {
   "cell_type": "markdown",
   "id": "3f180f8e",
   "metadata": {},
   "source": [
    "# for example :- If the following string is given as input to the program: aabbbccde"
   ]
  },
  {
   "cell_type": "markdown",
   "id": "d71e3568",
   "metadata": {},
   "source": [
    "# Then, the output of the program should be: b 3 a 2 c 2 d 1 e 1"
   ]
  },
  {
   "cell_type": "code",
   "execution_count": 7,
   "id": "eb4067de",
   "metadata": {},
   "outputs": [
    {
     "name": "stdout",
     "output_type": "stream",
     "text": [
      "aabbbccde\n",
      "b 3 a 2 c 2 d 1 e 1 "
     ]
    }
   ],
   "source": [
    "word= input()\n",
    "dct = {}\n",
    "for i in word:\n",
    "    dct[i] = dct.get(i,0) + 1\n",
    "\n",
    "dct = sorted(dct.items(),key=lambda x:(-x[1],x[0]))\n",
    "for i in dct:\n",
    "    print(i[0],i[1],end=' ')"
   ]
  },
  {
   "cell_type": "markdown",
   "id": "0ea07de9",
   "metadata": {},
   "source": [
    "# 5. You are required to write a program to sort the (name, age, score) tuples by ascending order where name is string, age and score are numbers. The tuples are input by console. The sort criteria is:"
   ]
  },
  {
   "cell_type": "markdown",
   "id": "5010f599",
   "metadata": {},
   "source": [
    "# Sort based on name"
   ]
  },
  {
   "cell_type": "markdown",
   "id": "4e72056c",
   "metadata": {},
   "source": [
    "# Then sort based on age\n",
    "# Then sort by score"
   ]
  },
  {
   "cell_type": "markdown",
   "id": "bcdbd4b1",
   "metadata": {},
   "source": [
    "# The priority is that name > age > score"
   ]
  },
  {
   "cell_type": "markdown",
   "id": "c0f94265",
   "metadata": {},
   "source": [
    "# If the following tuples are given as input to the program:\n",
    "\n"
   ]
  },
  {
   "cell_type": "markdown",
   "id": "298ca9a6",
   "metadata": {},
   "source": [
    "# Tom,19,80\n",
    "\n"
   ]
  },
  {
   "cell_type": "markdown",
   "id": "30b42f87",
   "metadata": {},
   "source": [
    "# John,20,90\n",
    "\n"
   ]
  },
  {
   "cell_type": "markdown",
   "id": "0e96491e",
   "metadata": {},
   "source": [
    "# Jony,17,91\n",
    "\n",
    "\n",
    "\n"
   ]
  },
  {
   "cell_type": "markdown",
   "id": "2b289611",
   "metadata": {},
   "source": [
    "# Json,21,85"
   ]
  },
  {
   "cell_type": "markdown",
   "id": "be713781",
   "metadata": {},
   "source": [
    "# Then, the output of the program should be:\n"
   ]
  },
  {
   "cell_type": "markdown",
   "id": "6f8e4644",
   "metadata": {},
   "source": [
    "# [('John', '20', '90'), ('Jony', '17', '91'), ('Jony', '17', '93'), ('Json', '21', '85'), ('Tom', '19', '80')]"
   ]
  },
  {
   "cell_type": "code",
   "execution_count": 1,
   "id": "20899a88",
   "metadata": {},
   "outputs": [],
   "source": [
    "def tuples(s):\n",
    "    return(sorted(s,key=lambda x:x[0]))\n"
   ]
  },
  {
   "cell_type": "code",
   "execution_count": 2,
   "id": "cdb2f1fb",
   "metadata": {},
   "outputs": [
    {
     "name": "stdout",
     "output_type": "stream",
     "text": [
      "[('Tom', 19, 80), ('john', 20, 90), ('jony', 17, 91), ('jony', 17, 93), ('json', 21, 85)]\n"
     ]
    }
   ],
   "source": [
    "s=[(\"Tom\",19,80),(\"john\",20,90),(\"jony\",17,91),(\"jony\",17,93),(\"json\",21,85)]\n",
    "print(tuples(s))"
   ]
  },
  {
   "cell_type": "code",
   "execution_count": null,
   "id": "71c33c97",
   "metadata": {},
   "outputs": [],
   "source": []
  }
 ],
 "metadata": {
  "kernelspec": {
   "display_name": "Python 3",
   "language": "python",
   "name": "python3"
  },
  "language_info": {
   "codemirror_mode": {
    "name": "ipython",
    "version": 3
   },
   "file_extension": ".py",
   "mimetype": "text/x-python",
   "name": "python",
   "nbconvert_exporter": "python",
   "pygments_lexer": "ipython3",
   "version": "3.8.8"
  }
 },
 "nbformat": 4,
 "nbformat_minor": 5
}
