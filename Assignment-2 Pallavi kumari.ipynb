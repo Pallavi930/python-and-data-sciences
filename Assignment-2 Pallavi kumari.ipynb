{
 "cells": [
  {
   "cell_type": "markdown",
   "id": "e946722f",
   "metadata": {},
   "source": [
    "## Assignement-2 Pallavi kumari"
   ]
  },
  {
   "cell_type": "markdown",
   "id": "eae18845",
   "metadata": {},
   "source": [
    "# Ques 1. Write a Python program to remove duplicates from a list. "
   ]
  },
  {
   "cell_type": "code",
   "execution_count": 1,
   "id": "efe59483",
   "metadata": {},
   "outputs": [
    {
     "name": "stdout",
     "output_type": "stream",
     "text": [
      "[2, 4, 10, 20, 5]\n"
     ]
    }
   ],
   "source": [
    "def Remove(duplicate):\n",
    "    final_list = []\n",
    "    for num in duplicate:\n",
    "        if num not in final_list:\n",
    "            final_list.append(num)\n",
    "    return final_list\n",
    "     \n",
    "# Driver Code\n",
    "duplicate = [2, 4, 10, 20, 5, 2, 20, 4]\n",
    "print(Remove(duplicate))"
   ]
  },
  {
   "cell_type": "markdown",
   "id": "b346c029",
   "metadata": {},
   "source": [
    "# Ques 2. Write a Python program to combine two dictionary adding values for common keys."
   ]
  },
  {
   "cell_type": "code",
   "execution_count": 2,
   "id": "6a56eaa3",
   "metadata": {},
   "outputs": [
    {
     "name": "stdout",
     "output_type": "stream",
     "text": [
      "{'a': 400, 'b': 400, 'c': 300, 'd': 400}\n"
     ]
    }
   ],
   "source": [
    "dict1 = {'a': 100, 'b': 200, 'c': 300}\n",
    "dict2 = {'a': 300, 'b': 200, 'd': 400}\n",
    "\n",
    "for i in dict2 :\n",
    "    if i in dict1 :\n",
    "        dict1[ i ] = dict1[ i ] +dict2[ i ]\n",
    "    else :\n",
    "        dict1[ i ] = dict2[ i ]\n",
    "print(dict1)"
   ]
  },
  {
   "cell_type": "markdown",
   "id": "77334386",
   "metadata": {},
   "source": [
    "# Ques 3.Write a Python program to convert a tuple to a string."
   ]
  },
  {
   "cell_type": "code",
   "execution_count": 3,
   "id": "a96ccad8",
   "metadata": {},
   "outputs": [
    {
     "name": "stdout",
     "output_type": "stream",
     "text": [
      "exercises\n"
     ]
    }
   ],
   "source": [
    "tup = ('e', 'x', 'e', 'r', 'c', 'i', 's', 'e', 's')\n",
    "str =  ''.join(tup)\n",
    "print(str)"
   ]
  },
  {
   "cell_type": "markdown",
   "id": "40e6ec39",
   "metadata": {},
   "source": [
    "# Ques 4.Write a Python program to remove item(s) from set."
   ]
  },
  {
   "cell_type": "code",
   "execution_count": 4,
   "id": "339abb46",
   "metadata": {},
   "outputs": [],
   "source": [
    "a={'dell','hp','lenevo','apple','asus','aser','msi'}"
   ]
  },
  {
   "cell_type": "code",
   "execution_count": 5,
   "id": "f0c64cf4",
   "metadata": {},
   "outputs": [
    {
     "data": {
      "text/plain": [
       "'hp'"
      ]
     },
     "execution_count": 5,
     "metadata": {},
     "output_type": "execute_result"
    }
   ],
   "source": [
    "a.pop()"
   ]
  },
  {
   "cell_type": "code",
   "execution_count": 6,
   "id": "5f9c74ec",
   "metadata": {},
   "outputs": [
    {
     "data": {
      "text/plain": [
       "{'apple', 'aser', 'asus', 'dell', 'lenevo', 'msi'}"
      ]
     },
     "execution_count": 6,
     "metadata": {},
     "output_type": "execute_result"
    }
   ],
   "source": [
    "a"
   ]
  },
  {
   "cell_type": "code",
   "execution_count": 7,
   "id": "757c7d0f",
   "metadata": {},
   "outputs": [],
   "source": [
    "a.remove('dell') #remove"
   ]
  },
  {
   "cell_type": "code",
   "execution_count": 8,
   "id": "9c27b8c7",
   "metadata": {},
   "outputs": [
    {
     "data": {
      "text/plain": [
       "{'apple', 'aser', 'asus', 'lenevo', 'msi'}"
      ]
     },
     "execution_count": 8,
     "metadata": {},
     "output_type": "execute_result"
    }
   ],
   "source": [
    "a"
   ]
  },
  {
   "cell_type": "markdown",
   "id": "e43cb161",
   "metadata": {},
   "source": [
    "# Ques 5. Write a Python program to create a symmetric difference"
   ]
  },
  {
   "cell_type": "code",
   "execution_count": 9,
   "id": "efb252b5",
   "metadata": {},
   "outputs": [
    {
     "name": "stdout",
     "output_type": "stream",
     "text": [
      "Original SetA {1, 2, 3, 4, 5, 6}\n",
      "Original SetA {0, 2, 6, 7, 8, 9}\n",
      "Symetric diff setA - setB {1, 3, 4, 5}\n",
      "Symetric diff setB - setA {0, 8, 9, 7}\n"
     ]
    }
   ],
   "source": [
    "setA={1,2,3,4,5,6}\n",
    "setB={7,8,2,9,6,0}\n",
    "print('Original SetA',setA)\n",
    "print('Original SetA',setB)\n",
    "print('Symetric diff setA - setB',setA-setB)\n",
    "print('Symetric diff setB - setA',setB-setA)"
   ]
  },
  {
   "cell_type": "markdown",
   "id": "bf651964",
   "metadata": {},
   "source": [
    "# Ques 6.Write a Python program to construct the following pattern, using a nested for loop."
   ]
  },
  {
   "cell_type": "code",
   "execution_count": 10,
   "id": "42596d6b",
   "metadata": {},
   "outputs": [
    {
     "name": "stdout",
     "output_type": "stream",
     "text": [
      "\n",
      "* \n",
      "* * \n",
      "* * * \n",
      "* * * * \n",
      "* * * * * \n",
      "* * * * \n",
      "* * * \n",
      "* * \n",
      "* \n"
     ]
    }
   ],
   "source": [
    "n=5;\n",
    "for i in range(n):\n",
    "    for j in range(i):\n",
    "        print ('* ', end=\"\")\n",
    "    print('')\n",
    "\n",
    "for i in range(n,0,-1):\n",
    "    for j in range(i):\n",
    "        print('* ', end=\"\")\n",
    "    print('')\n",
    "\n",
    "Ques 7. Write a Python program to get the Fibonacci series between 0 to 50\n"
   ]
  },
  {
   "cell_type": "markdown",
   "id": "dadf3e7c",
   "metadata": {},
   "source": [
    "# Ques 7. Write a Python program to get the Fibonacci series between 0 to 50."
   ]
  },
  {
   "cell_type": "code",
   "execution_count": 11,
   "id": "62a82138",
   "metadata": {},
   "outputs": [
    {
     "name": "stdout",
     "output_type": "stream",
     "text": [
      "1\n",
      "1\n",
      "2\n",
      "3\n",
      "5\n",
      "8\n",
      "13\n",
      "21\n",
      "34\n"
     ]
    }
   ],
   "source": [
    "x,y=0,1\n",
    "\n",
    "while y<50:\n",
    "    print(y)\n",
    "    x,y = y,x+y"
   ]
  },
  {
   "cell_type": "code",
   "execution_count": null,
   "id": "5530ea63",
   "metadata": {},
   "outputs": [],
   "source": []
  }
 ],
 "metadata": {
  "kernelspec": {
   "display_name": "Python 3",
   "language": "python",
   "name": "python3"
  },
  "language_info": {
   "codemirror_mode": {
    "name": "ipython",
    "version": 3
   },
   "file_extension": ".py",
   "mimetype": "text/x-python",
   "name": "python",
   "nbconvert_exporter": "python",
   "pygments_lexer": "ipython3",
   "version": "3.8.8"
  }
 },
 "nbformat": 4,
 "nbformat_minor": 5
}
